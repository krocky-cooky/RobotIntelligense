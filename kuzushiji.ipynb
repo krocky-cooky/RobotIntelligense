{
 "cells": [
  {
   "cell_type": "markdown",
   "metadata": {},
   "source": [
    "# くずし字 MNIST データセットの学習\n",
    "[github](https://github.com/rois-codh/kmnist)からダウンロードしたくずし字データセットを今回作成したニューラルネットワークのクラスneuralNetworkを用いて学習させ、その精度を求めた。"
   ]
  },
  {
   "cell_type": "code",
   "execution_count": 7,
   "metadata": {},
   "outputs": [],
   "source": [
    "import numpy as np\n",
    "from neural import neuralNetwork #自作ライブラリ\n",
    "import matplotlib.pyplot as plt"
   ]
  },
  {
   "cell_type": "code",
   "execution_count": 8,
   "metadata": {},
   "outputs": [],
   "source": [
    "x_train = np.load('./datasets/kmnist-train-imgs.npz')['arr_0']\n",
    "t_train = np.load('./datasets/kmnist-train-labels.npz')['arr_0']\n",
    "x_test = np.load('./datasets/kmnist-test-imgs.npz')['arr_0']\n",
    "t_test = np.load('./datasets/kmnist-test-labels.npz')['arr_0']\n",
    "\n",
    "t_train = np.identity(10)[t_train]\n",
    "t_test = np.identity(10)[t_test]\n",
    "x_train = x_train.reshape((60000,-1))\n",
    "x_test = x_test.reshape((10000,-1))"
   ]
  },
  {
   "cell_type": "code",
   "execution_count": 9,
   "metadata": {},
   "outputs": [],
   "source": [
    "x_train = x_train/255\n",
    "x_test = t_train/255"
   ]
  },
  {
   "cell_type": "code",
   "execution_count": 10,
   "metadata": {},
   "outputs": [
    {
     "name": "stdout",
     "output_type": "stream",
     "text": [
      "<< successfully layers are updated >>\n"
     ]
    }
   ],
   "source": [
    "net = neuralNetwork(epoch = 33000,learning_rate = 0.00001,batch_per = 0.06)\n",
    "layer_list = [784,[500,80],10]\n",
    "net.set_layer(layer_list)"
   ]
  },
  {
   "cell_type": "code",
   "execution_count": null,
   "metadata": {},
   "outputs": [
    {
     "name": "stdout",
     "output_type": "stream",
     "text": [
      "========epoch0=========\n",
      "loss : 1801.954201273691\n",
      "accuracy : 0.11027777777777778\n",
      "=======================\n",
      "========epoch100=========\n",
      "loss : 1617.422551840514\n",
      "accuracy : 0.3219444444444444\n",
      "=========================\n",
      "========epoch200=========\n",
      "loss : 1611.9029056649406\n",
      "accuracy : 0.4088888888888889\n",
      "=========================\n",
      "========epoch300=========\n",
      "loss : 1599.938889804949\n",
      "accuracy : 0.4075\n",
      "=========================\n",
      "========epoch400=========\n",
      "loss : 1565.84008324124\n",
      "accuracy : 0.3402777777777778\n",
      "=========================\n",
      "========epoch500=========\n",
      "loss : 1496.6250002787517\n",
      "accuracy : 0.28555555555555556\n",
      "=========================\n",
      "========epoch600=========\n",
      "loss : 1441.807973985657\n",
      "accuracy : 0.3488888888888889\n",
      "=========================\n",
      "========epoch700=========\n",
      "loss : 1371.971075174585\n",
      "accuracy : 0.47194444444444444\n",
      "=========================\n",
      "========epoch800=========\n",
      "loss : 1292.5152956065308\n",
      "accuracy : 0.5530555555555555\n",
      "=========================\n",
      "========epoch900=========\n",
      "loss : 1222.3440779121952\n",
      "accuracy : 0.6308333333333334\n",
      "=========================\n",
      "========epoch1000=========\n",
      "loss : 1153.965481963988\n",
      "accuracy : 0.6861111111111111\n",
      "==========================\n",
      "========epoch1100=========\n",
      "loss : 1095.4130687057632\n",
      "accuracy : 0.6844444444444444\n",
      "==========================\n",
      "========epoch1200=========\n",
      "loss : 1041.1722226575346\n",
      "accuracy : 0.6908333333333333\n",
      "==========================\n",
      "========epoch1300=========\n",
      "loss : 978.223120369741\n",
      "accuracy : 0.7130555555555556\n",
      "==========================\n",
      "========epoch1400=========\n",
      "loss : 933.1973815695533\n",
      "accuracy : 0.7275\n",
      "==========================\n",
      "========epoch1500=========\n",
      "loss : 884.6488770330477\n",
      "accuracy : 0.7413888888888889\n",
      "==========================\n",
      "========epoch1600=========\n",
      "loss : 835.8201398789236\n",
      "accuracy : 0.7652777777777777\n",
      "==========================\n",
      "========epoch1700=========\n",
      "loss : 826.5760279303997\n",
      "accuracy : 0.7583333333333333\n",
      "==========================\n",
      "========epoch1800=========\n",
      "loss : 772.6574521520961\n",
      "accuracy : 0.7891666666666667\n",
      "==========================\n",
      "========epoch1900=========\n",
      "loss : 740.5317176802539\n",
      "accuracy : 0.7922222222222223\n",
      "==========================\n",
      "========epoch2000=========\n",
      "loss : 686.3373586703841\n",
      "accuracy : 0.8102777777777778\n",
      "==========================\n",
      "========epoch2100=========\n",
      "loss : 671.5449720435146\n",
      "accuracy : 0.8130555555555555\n",
      "==========================\n",
      "========epoch2200=========\n",
      "loss : 651.4180682448234\n",
      "accuracy : 0.8152777777777778\n",
      "==========================\n",
      "========epoch2300=========\n",
      "loss : 643.0235913130559\n",
      "accuracy : 0.8097222222222222\n",
      "==========================\n"
     ]
    }
   ],
   "source": [
    "net.train(x_train,t_train)"
   ]
  },
  {
   "cell_type": "code",
   "execution_count": null,
   "metadata": {},
   "outputs": [],
   "source": []
  },
  {
   "cell_type": "code",
   "execution_count": null,
   "metadata": {},
   "outputs": [],
   "source": []
  }
 ],
 "metadata": {
  "kernelspec": {
   "display_name": "Python 3",
   "language": "python",
   "name": "python3"
  },
  "language_info": {
   "codemirror_mode": {
    "name": "ipython",
    "version": 3
   },
   "file_extension": ".py",
   "mimetype": "text/x-python",
   "name": "python",
   "nbconvert_exporter": "python",
   "pygments_lexer": "ipython3",
   "version": "3.5.4"
  }
 },
 "nbformat": 4,
 "nbformat_minor": 2
}
