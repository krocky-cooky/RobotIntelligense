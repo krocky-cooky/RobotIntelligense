{
 "cells": [
  {
   "cell_type": "markdown",
   "metadata": {},
   "source": [
    "# くずし字 MNIST データセットの学習\n",
    "[github](https://github.com/rois-codh/kmnist)からダウンロードしたくずし字データセットを今回作成したニューラルネットワークの分類タスク用クラスClassificationを用いて学習させ、その精度を求めた。"
   ]
  },
  {
   "cell_type": "code",
   "execution_count": 1,
   "metadata": {},
   "outputs": [],
   "source": [
    "import numpy as np\n",
    "from neural import Classification #自作ライブラリ\n",
    "import matplotlib.pyplot as plt"
   ]
  },
  {
   "cell_type": "code",
   "execution_count": 2,
   "metadata": {},
   "outputs": [],
   "source": [
    "x_train = np.load('./datasets/kmnist-train-imgs.npz')['arr_0']\n",
    "t_train = np.load('./datasets/kmnist-train-labels.npz')['arr_0']\n",
    "x_test = np.load('./datasets/kmnist-test-imgs.npz')['arr_0']\n",
    "t_test = np.load('./datasets/kmnist-test-labels.npz')['arr_0']\n",
    "\n",
    "t_train = np.identity(10)[t_train]\n",
    "t_test = np.identity(10)[t_test]\n",
    "x_train = x_train.reshape((60000,-1))\n",
    "x_test = x_test.reshape((10000,-1))\n",
    "x_train = x_train/255\n",
    "x_test = x_test/255"
   ]
  },
  {
   "cell_type": "code",
   "execution_count": null,
   "metadata": {},
   "outputs": [
    {
     "name": "stdout",
     "output_type": "stream",
     "text": [
      "<< successfully layers are updated >>\n"
     ]
    },
    {
     "data": {
      "text/plain": [
       "<neural.Classification at 0x7fd85ebef128>"
      ]
     },
     "execution_count": 3,
     "metadata": {},
     "output_type": "execute_result"
    }
   ],
   "source": [
    "net = Classification(\n",
    "      learning_rate=0.05,\n",
    "      epoch=30000,\n",
    "      batch_size=500,\n",
    "      optimize_initial_weight = True,\n",
    "      optimizer = 'momentum',\n",
    "      log_frequency = 100,\n",
    "      loss_func = 'square'\n",
    ")\n",
    "net.activation['output'] = 'sigmoid'\n",
    "layer_list = [784,[500,80],10]\n",
    "net.set_layer(layer_list)"
   ]
  },
  {
   "cell_type": "code",
   "execution_count": null,
   "metadata": {},
   "outputs": [
    {
     "name": "stdout",
     "output_type": "stream",
     "text": [
      "--------- epoch0 ---------\n",
      "loss : 646.936331320113\n",
      "accuracy : 0.074\n",
      "time : 0.026880979537963867 [sec]\n",
      "--------------------------\n",
      "\n",
      "--------- epoch100 ---------\n",
      "loss : 210.88891245090602\n",
      "accuracy : 0.428\n",
      "time : 4.709453821182251 [sec]\n",
      "----------------------------\n",
      "\n",
      "--------- epoch200 ---------\n",
      "loss : 177.8458563528766\n",
      "accuracy : 0.576\n",
      "time : 8.594067811965942 [sec]\n",
      "----------------------------\n",
      "\n",
      "--------- epoch300 ---------\n",
      "loss : 133.97213317872473\n",
      "accuracy : 0.702\n",
      "time : 14.129971981048584 [sec]\n",
      "----------------------------\n",
      "\n",
      "--------- epoch400 ---------\n",
      "loss : 112.94848707587985\n",
      "accuracy : 0.758\n",
      "time : 18.514842987060547 [sec]\n",
      "----------------------------\n",
      "\n",
      "--------- epoch500 ---------\n",
      "loss : 104.98429834472309\n",
      "accuracy : 0.738\n",
      "time : 22.692945957183838 [sec]\n",
      "----------------------------\n",
      "\n",
      "--------- epoch600 ---------\n",
      "loss : 86.62983863541365\n",
      "accuracy : 0.792\n",
      "time : 26.436879873275757 [sec]\n",
      "----------------------------\n",
      "\n",
      "--------- epoch700 ---------\n",
      "loss : 90.46661084139173\n",
      "accuracy : 0.75\n",
      "time : 30.443347930908203 [sec]\n",
      "----------------------------\n",
      "\n",
      "--------- epoch800 ---------\n",
      "loss : 87.67884103963092\n",
      "accuracy : 0.782\n",
      "time : 34.16499590873718 [sec]\n",
      "----------------------------\n",
      "\n"
     ]
    }
   ],
   "source": [
    "elapsed_time,train_acc = net.train(x_train,t_train)"
   ]
  },
  {
   "cell_type": "code",
   "execution_count": null,
   "metadata": {},
   "outputs": [],
   "source": [
    "print('train accuracy : {}\\ntest accuracy : {}'.format(\n",
    "    net.accuracy(x_train,t_train),net.accuracy(x_test,t_test)))"
   ]
  },
  {
   "cell_type": "code",
   "execution_count": null,
   "metadata": {},
   "outputs": [],
   "source": [
    "net.visualize()"
   ]
  },
  {
   "cell_type": "code",
   "execution_count": null,
   "metadata": {},
   "outputs": [],
   "source": [
    "net.save('anyname')"
   ]
  },
  {
   "cell_type": "code",
   "execution_count": null,
   "metadata": {},
   "outputs": [],
   "source": [
    "new_net = Classification.load('anyname')\n",
    "new_net.accuracy(x_test,t_test)"
   ]
  },
  {
   "cell_type": "code",
   "execution_count": null,
   "metadata": {},
   "outputs": [],
   "source": []
  }
 ],
 "metadata": {
  "kernelspec": {
   "display_name": "Python 3",
   "language": "python",
   "name": "python3"
  },
  "language_info": {
   "codemirror_mode": {
    "name": "ipython",
    "version": 3
   },
   "file_extension": ".py",
   "mimetype": "text/x-python",
   "name": "python",
   "nbconvert_exporter": "python",
   "pygments_lexer": "ipython3",
   "version": "3.5.4"
  }
 },
 "nbformat": 4,
 "nbformat_minor": 2
}
